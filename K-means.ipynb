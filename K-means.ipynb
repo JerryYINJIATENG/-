{
 "cells": [
  {
   "cell_type": "code",
   "execution_count": 1,
   "metadata": {},
   "outputs": [],
   "source": [
    "import numpy as np\n",
    "import matplotlib.pyplot as plt\n",
    "import pandas as pd"
   ]
  },
  {
   "cell_type": "code",
   "execution_count": 2,
   "metadata": {},
   "outputs": [],
   "source": [
    "def kmeans(data, n, m, k, plt):\n",
    "    # 获取4个随机数\n",
    "    rarray = np.random.random(size=k)\n",
    "    # 乘以数据集大小——>数据集中随机的4个点\n",
    "    rarray = np.floor(rarray*n)\n",
    "    # 转为int\n",
    "    rarray = rarray.astype(int)\n",
    "    print('数据集中随机索引', rarray)\n",
    "    # 随机取数据集中的4个点作为初始中心点\n",
    "    center = data[rarray]\n",
    "    # 测试比较偏、比较集中的点，效果依然完美，测试需要删除以上代码\n",
    "    # center = np.array([[4.6,-2.5],[4.4,-1.7],[4.3,-0.7],[4.8,-1.1]])\n",
    "    # 1行80列的0数组，标记每个样本所属的类(k[i])\n",
    "    cls = np.zeros([n], np.int)\n",
    "    print('初始center=\\n', center)\n",
    "    run = True\n",
    "    time = 0\n",
    "    while run:\n",
    "        time = time + 1\n",
    "        for i in range(n):\n",
    "            # 求差\n",
    "            tmp = data[i] - center\n",
    "            # 求平方\n",
    "            tmp = np.square(tmp)\n",
    "            # axis=1表示按行求和\n",
    "            tmp = np.sum(tmp, axis=1)\n",
    "            # 取最小（最近）的给该点“染色”（标记每个样本所属的类(k[i])）\n",
    "            cls[i] = np.argmin(tmp)\n",
    "        # 如果没有修改各分类中心点，就结束循环\n",
    "        run = False\n",
    "        # 计算更新每个类的中心点\n",
    "        for i in range(k):\n",
    "            # 找到属于该类的所有样本\n",
    "            club = data[cls==i]\n",
    "            # axis=0表示按列求平均值，计算出新的中心点\n",
    "            newcenter = np.mean(club, axis=0)\n",
    "            # 如果新旧center的差距很小，看做他们相等，否则更新之。run置true，再来一次循环\n",
    "            ss = np.abs(center[i]-newcenter)\n",
    "            if np.sum(ss, axis=0) > 1e-4:\n",
    "                center[i] = newcenter\n",
    "                run = True\n",
    "        print('new center=\\n', center)\n",
    "    print('程序结束，迭代次数：', time)\n",
    "    # 按类打印图表，因为每打印一次，颜色都不一样，所以可区分出来\n",
    "    for i in range(k):\n",
    "        club = data[cls == i]\n",
    "        showtable(club, plt)\n",
    "    # 打印最后的中心点\n",
    "    showtable(center, plt)"
   ]
  },
  {
   "cell_type": "code",
   "execution_count": 3,
   "metadata": {},
   "outputs": [],
   "source": [
    "def showtable(data, plt):\n",
    "    x = data.T[0]\n",
    "    y = data.T[1]\n",
    "    plt.scatter(x, y)"
   ]
  },
  {
   "cell_type": "code",
   "execution_count": 4,
   "metadata": {},
   "outputs": [
    {
     "name": "stdout",
     "output_type": "stream",
     "text": [
      "数据集中随机索引 [ 1  8 67 61]\n",
      "初始center=\n",
      " [[-3.453687  3.424321]\n",
      " [ 2.668759  1.594842]\n",
      " [-2.651229 -3.103198]\n",
      " [-2.562539  2.884438]]\n",
      "new center=\n",
      " [[-3.67036525  3.311776  ]\n",
      " [ 2.84688416  0.48771357]\n",
      " [-2.79969165 -3.01951378]\n",
      " [-2.15933763  2.65627544]]\n",
      "new center=\n",
      " [[-3.649876    2.955743  ]\n",
      " [ 2.8462177   0.2615863 ]\n",
      " [-3.01169468 -3.01238673]\n",
      " [-1.81827806  2.88494975]]\n",
      "new center=\n",
      " [[-3.48664243  2.77252571]\n",
      " [ 2.96765829 -0.04151062]\n",
      " [-3.01169468 -3.01238673]\n",
      " [-1.08974465  3.09531088]]\n",
      "new center=\n",
      " [[-3.17006745  2.60393509]\n",
      " [ 3.01706084 -0.27140413]\n",
      " [-3.01169468 -3.01238673]\n",
      " [-0.24713193  3.37721667]]\n",
      "new center=\n",
      " [[-2.84017553  2.6309902 ]\n",
      " [ 3.10012512 -1.31169504]\n",
      " [-3.01169468 -3.01238673]\n",
      " [ 1.28154061  3.5524515 ]]\n",
      "new center=\n",
      " [[-2.54951105  2.75812458]\n",
      " [ 2.8692781  -2.54779119]\n",
      " [-3.38237045 -2.9473363 ]\n",
      " [ 2.3772111   3.2195035 ]]\n",
      "new center=\n",
      " [[-2.46154315  2.78737555]\n",
      " [ 2.80293085 -2.7315146 ]\n",
      " [-3.38237045 -2.9473363 ]\n",
      " [ 2.6265299   3.10868015]]\n",
      "new center=\n",
      " [[-2.46154315  2.78737555]\n",
      " [ 2.80293085 -2.7315146 ]\n",
      " [-3.38237045 -2.9473363 ]\n",
      " [ 2.6265299   3.10868015]]\n",
      "程序结束，迭代次数： 8\n"
     ]
    },
    {
     "data": {
      "image/png": "[encoded data removed]",
      "text/plain": [
       "<Figure size 432x288 with 1 Axes>"
      ]
     },
     "metadata": {
      "needs_background": "light"
     },
     "output_type": "display_data"
    }
   ],
   "source": [
    "if __name__ == \"__main__\":\n",
    "    csv = pd.read_csv(\"C:/Users/Jiateng/Desktop/CODE/Python/KmeansData.txt\")\n",
    "    # 打印原始数据\n",
    "    # showtable(csv.values, plt)\n",
    "    kmeans(csv.values, 80, 2, 4, plt)\n",
    "    plt.show()"
   ]
  },
  {
   "cell_type": "code",
   "execution_count": null,
   "metadata": {},
   "outputs": [],
   "source": []
  }
 ],
 "metadata": {
  "kernelspec": {
   "display_name": "Python 3",
   "language": "python",
   "name": "python3"
  },
  "language_info": {
   "codemirror_mode": {
    "name": "ipython",
    "version": 3
   },
   "file_extension": ".py",
   "mimetype": "text/x-python",
   "name": "python",
   "nbconvert_exporter": "python",
   "pygments_lexer": "ipython3",
   "version": "3.7.4"
  }
 },
 "nbformat": 4,
 "nbformat_minor": 2
}
