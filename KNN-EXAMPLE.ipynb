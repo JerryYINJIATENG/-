{
 "cells": [
  {
   "cell_type": "code",
   "execution_count": 1,
   "metadata": {},
   "outputs": [],
   "source": [
    "import numpy as np\n",
    "import matplotlib.pyplot as plt"
   ]
  },
  {
   "cell_type": "code",
   "execution_count": 2,
   "metadata": {},
   "outputs": [],
   "source": [
    "fight=[3,2,1,101,99,98]\n",
    "kiss=[104,100,81,10,5,2]\n",
    "filmtype=[1,1,1,2,2,2]"
   ]
  },
  {
   "cell_type": "code",
   "execution_count": 3,
   "metadata": {},
   "outputs": [
    {
     "data": {
      "image/png": "[encoded data removed]",
      "text/plain": [
       "<Figure size 432x288 with 1 Axes>"
      ]
     },
     "metadata": {
      "needs_background": "light"
     },
     "output_type": "display_data"
    }
   ],
   "source": [
    "plt.scatter(fight,kiss,c=filmtype)\n",
    "plt.xlabel('fight')\n",
    "plt.ylabel('kiss')\n",
    "plt.title('movie')\n",
    "plt.show()"
   ]
  },
  {
   "cell_type": "code",
   "execution_count": 4,
   "metadata": {},
   "outputs": [
    {
     "name": "stdout",
     "output_type": "stream",
     "text": [
      "[[  3 104]\n",
      " [  2 100]\n",
      " [  1  81]\n",
      " [101  10]\n",
      " [ 99   5]\n",
      " [ 98   2]]\n",
      "[1 1 1 2 2 2]\n"
     ]
    }
   ],
   "source": [
    "x=np.array([fight,kiss])\n",
    "x=x.T\n",
    "y=np.array(filmtype)\n",
    "print(x)\n",
    "print(y)"
   ]
  },
  {
   "cell_type": "code",
   "execution_count": 6,
   "metadata": {},
   "outputs": [
    {
     "name": "stdout",
     "output_type": "stream",
     "text": [
      "[ 20.51828453  18.86796226  19.23538406 115.27792503 117.41379817\n",
      " 118.92854998]\n"
     ]
    }
   ],
   "source": [
    "# 测试\n",
    "xx = np.array([18,90])\n",
    "dist = ((x-xx)**2).sum(1)**0.5\n",
    "print(dist)"
   ]
  },
  {
   "cell_type": "code",
   "execution_count": 8,
   "metadata": {
    "scrolled": true
   },
   "outputs": [
    {
     "name": "stdout",
     "output_type": "stream",
     "text": [
      "[1 2 0 3 4 5]\n"
     ]
    }
   ],
   "source": [
    "sortedDist = dist.argsort()\n",
    "print(sortedDist)\n",
    "# argsort 整理dist中的据离排序，1，2，0，3，4，5分别对应：据离最近的是第二个数，据离第二近的是第三个数"
   ]
  },
  {
   "cell_type": "code",
   "execution_count": 9,
   "metadata": {},
   "outputs": [
    {
     "name": "stdout",
     "output_type": "stream",
     "text": [
      "class: count {1: 3, 2: 1}\n"
     ]
    }
   ],
   "source": [
    "# knn\n",
    "k=4\n",
    "classCount={}\n",
    "for i in range(k):\n",
    "    voteLabel = y[sortedDist[i]]\n",
    "    classCount[voteLabel]=classCount.get(voteLabel,0)+1\n",
    "print('class: count',classCount)"
   ]
  },
  {
   "cell_type": "code",
   "execution_count": 10,
   "metadata": {},
   "outputs": [
    {
     "name": "stdout",
     "output_type": "stream",
     "text": [
      "output:  1\n"
     ]
    }
   ],
   "source": [
    "# 输出结果\n",
    "maxType = 0\n",
    "maxCount = -1\n",
    "for key,value in classCount.items():\n",
    "    if value > maxCount:\n",
    "        maxType = key\n",
    "        maxCount = value\n",
    "print('output: ',maxType)    "
   ]
  },
  {
   "cell_type": "code",
   "execution_count": 11,
   "metadata": {},
   "outputs": [
    {
     "name": "stdout",
     "output_type": "stream",
     "text": [
      "[18 90]\n",
      "18\n"
     ]
    }
   ],
   "source": [
    "print(xx)\n",
    "print(xx[0])"
   ]
  },
  {
   "cell_type": "code",
   "execution_count": 12,
   "metadata": {},
   "outputs": [
    {
     "data": {
      "image/png": "[encoded data removed]",
      "text/plain": [
       "<Figure size 432x288 with 1 Axes>"
      ]
     },
     "metadata": {
      "needs_background": "light"
     },
     "output_type": "display_data"
    }
   ],
   "source": [
    "plt.scatter(fight,kiss,c=filmtype)\n",
    "plt.scatter(xx[0], xx[1],c='r')\n",
    "plt.xlabel('fight')\n",
    "plt.ylabel('kiss')\n",
    "plt.title('movie')\n",
    "plt.show()"
   ]
  },
  {
   "cell_type": "code",
   "execution_count": null,
   "metadata": {},
   "outputs": [],
   "source": []
  }
 ],
 "metadata": {
  "kernelspec": {
   "display_name": "Python 3",
   "language": "python",
   "name": "python3"
  },
  "language_info": {
   "codemirror_mode": {
    "name": "ipython",
    "version": 3
   },
   "file_extension": ".py",
   "mimetype": "text/x-python",
   "name": "python",
   "nbconvert_exporter": "python",
   "pygments_lexer": "ipython3",
   "version": "3.7.4"
  }
 },
 "nbformat": 4,
 "nbformat_minor": 2
}
